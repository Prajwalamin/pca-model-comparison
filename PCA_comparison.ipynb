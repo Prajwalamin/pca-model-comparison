{
  "nbformat": 4,
  "nbformat_minor": 0,
  "metadata": {
    "colab": {
      "provenance": [],
      "authorship_tag": "ABX9TyNpj2GHuSIkM9UebMIBJlkP",
      "include_colab_link": true
    },
    "kernelspec": {
      "name": "python3",
      "display_name": "Python 3"
    },
    "language_info": {
      "name": "python"
    }
  },
  "cells": [
    {
      "cell_type": "markdown",
      "metadata": {
        "id": "view-in-github",
        "colab_type": "text"
      },
      "source": [
        "<a href=\"https://colab.research.google.com/github/Prajwalamin/pca-model-comparison/blob/main/PCA_comparison.ipynb\" target=\"_parent\"><img src=\"https://colab.research.google.com/assets/colab-badge.svg\" alt=\"Open In Colab\"/></a>"
      ]
    },
    {
      "cell_type": "markdown",
      "source": [
        "## Loading the Dataset (MNIST)"
      ],
      "metadata": {
        "id": "QBo_pAXvjJEH"
      }
    },
    {
      "cell_type": "code",
      "source": [
        "from sklearn.datasets import fetch_openml\n",
        "from sklearn.decomposition import PCA\n",
        "from sklearn.model_selection import train_test_split\n",
        "import numpy as np\n",
        "import time\n",
        "\n",
        "# Load the MNIST dataset\n",
        "mnist = fetch_openml('mnist_784', version=1)\n",
        "\n",
        "# Extract the features (X) and labels (y)\n",
        "X = mnist.data\n",
        "y = mnist.target\n",
        "\n",
        "# Split the dataset into training and testing sets\n",
        "X_train, X_test, y_train, y_test = train_test_split(X, y, test_size=10000, train_size=60000, random_state=42)\n"
      ],
      "metadata": {
        "colab": {
          "base_uri": "https://localhost:8080/"
        },
        "id": "hkVQ65JSjSYw",
        "outputId": "eb19c1b9-48b1-45b9-9dfb-2010eee788e8"
      },
      "execution_count": 35,
      "outputs": [
        {
          "output_type": "stream",
          "name": "stderr",
          "text": [
            "/usr/local/lib/python3.10/dist-packages/sklearn/datasets/_openml.py:968: FutureWarning: The default value of `parser` will change from `'liac-arff'` to `'auto'` in 1.4. You can set `parser='auto'` to silence this warning. Therefore, an `ImportError` will be raised from 1.4 if the dataset is dense and pandas is not installed. Note that the pandas parser may return different data types. See the Notes Section in fetch_openml's API doc for details.\n",
            "  warn(\n"
          ]
        }
      ]
    },
    {
      "cell_type": "markdown",
      "source": [
        "##<b>Random Forest Classifier<b/>"
      ],
      "metadata": {
        "id": "21d97YKrrgNT"
      }
    },
    {
      "cell_type": "code",
      "source": [
        "from sklearn.ensemble import RandomForestClassifier\n",
        "\n",
        "rf = RandomForestClassifier(random_state=42)\n",
        "\n",
        "# Start the timer\n",
        "start_time = time.time()\n",
        "\n",
        "rf.fit(X_train,y_train)\n",
        "\n",
        "\n",
        "# Time taken\n",
        "elapsed_time = time.time() - start_time\n",
        "\n",
        "print(\"Time taken for training:\", elapsed_time, \"seconds\")\n",
        "\n"
      ],
      "metadata": {
        "colab": {
          "base_uri": "https://localhost:8080/"
        },
        "id": "N607kMrwjt-w",
        "outputId": "c601cb08-a311-468d-a799-54266481fac8"
      },
      "execution_count": 19,
      "outputs": [
        {
          "output_type": "stream",
          "name": "stdout",
          "text": [
            "Time taken for training: 50.555375814437866 seconds\n"
          ]
        }
      ]
    },
    {
      "cell_type": "code",
      "source": [
        "# Evaluation\n",
        "from sklearn.metrics import accuracy_score\n",
        "\n",
        "# Perform predictions on the test set\n",
        "y_pred = rf.predict(X_test)\n",
        "\n",
        "# Calculate the accuracy of the classifier\n",
        "accuracy = accuracy_score(y_test, y_pred)\n",
        "\n",
        "# Print the results\n",
        "# print(\"Time taken for training:\", training_time, \"seconds\")\n",
        "# print(\"Time taken for evaluation:\", evaluation_time, \"seconds\")\n",
        "print(\"Accuracy:\", accuracy)\n"
      ],
      "metadata": {
        "colab": {
          "base_uri": "https://localhost:8080/"
        },
        "id": "8va-7iftmgXu",
        "outputId": "363c2ac3-4883-4d7e-8d78-b9ec6f54c07a"
      },
      "execution_count": 24,
      "outputs": [
        {
          "output_type": "stream",
          "name": "stdout",
          "text": [
            "Accuracy: 0.9674\n"
          ]
        }
      ]
    },
    {
      "cell_type": "markdown",
      "source": [
        "###Training after PCA"
      ],
      "metadata": {
        "id": "_JdWKuVhkzM9"
      }
    },
    {
      "cell_type": "code",
      "source": [
        "# Applying PCA\n",
        "pca = PCA(n_components=0.95)\n",
        "X_train_pca = pca.fit_transform(X_train)\n",
        "X_test_pca = pca.transform(X_test)\n",
        "\n",
        "#Training the model\n",
        "# Start the timer for training\n",
        "start_time_pca = time.time()\n",
        "\n",
        "# Train the Random Forest classifier\n",
        "rf.fit(X_train_pca, y_train)\n",
        "\n",
        "# Calculate the elapsed time for training\n",
        "elapsed_time_pca = time.time() - start_time_pca\n",
        "\n",
        "print(\"Time taken for training:\", elapsed_time_p, \"seconds\")"
      ],
      "metadata": {
        "colab": {
          "base_uri": "https://localhost:8080/"
        },
        "id": "8mta3wJLmdNE",
        "outputId": "e8ee5ac9-40d2-4119-93ed-22f29c1897dd"
      },
      "execution_count": 25,
      "outputs": [
        {
          "output_type": "stream",
          "name": "stdout",
          "text": [
            "Time taken for training: 50.555375814437866 seconds\n"
          ]
        }
      ]
    },
    {
      "cell_type": "code",
      "source": [
        "print(elapsed_time_pca)"
      ],
      "metadata": {
        "colab": {
          "base_uri": "https://localhost:8080/"
        },
        "id": "hrjUMs-6n7pH",
        "outputId": "fd7c07ed-9653-4cf7-ad9d-a89b26db7601"
      },
      "execution_count": 26,
      "outputs": [
        {
          "output_type": "stream",
          "name": "stdout",
          "text": [
            "131.52533388137817\n"
          ]
        }
      ]
    },
    {
      "cell_type": "code",
      "source": [
        "# Evaluation\n",
        "\n",
        "# Perform predictions on the test set\n",
        "y_pred = rf.predict(X_test_pca)\n",
        "\n",
        "# Calculate the accuracy of the classifier\n",
        "accuracy = accuracy_score(y_test, y_pred)\n",
        "\n",
        "# Print the results\n",
        "# print(\"Time taken for training:\", training_time, \"seconds\")\n",
        "# print(\"Time taken for evaluation:\", evaluation_time, \"seconds\")\n",
        "print(\"Accuracy:\", accuracy)"
      ],
      "metadata": {
        "colab": {
          "base_uri": "https://localhost:8080/"
        },
        "id": "a4AUWbuyoky3",
        "outputId": "3c92f9b2-d366-4240-94b4-1e7659804859"
      },
      "execution_count": 28,
      "outputs": [
        {
          "output_type": "stream",
          "name": "stdout",
          "text": [
            "Accuracy: 0.9469\n"
          ]
        }
      ]
    },
    {
      "cell_type": "markdown",
      "source": [
        "##<b>SGDClassifier<b>"
      ],
      "metadata": {
        "id": "_ONRuP5ar0Qr"
      }
    },
    {
      "cell_type": "code",
      "source": [
        "from sklearn.linear_model import SGDClassifier\n",
        "\n",
        "sgd = SGDClassifier()\n",
        "\n",
        "# Start the timer\n",
        "start_time = time.time()\n",
        "\n",
        "sgd.fit(X_train,y_train)\n",
        "\n",
        "\n",
        "# Time taken\n",
        "elapsed_time = time.time() - start_time\n",
        "\n",
        "print(\"Time taken for training:\", elapsed_time, \"seconds\")\n",
        "\n"
      ],
      "metadata": {
        "colab": {
          "base_uri": "https://localhost:8080/"
        },
        "id": "VHYM1tdFpbA0",
        "outputId": "245e3f77-3c28-4213-c2d2-f07d855cca41"
      },
      "execution_count": 30,
      "outputs": [
        {
          "output_type": "stream",
          "name": "stdout",
          "text": [
            "Time taken for training: 175.0053014755249 seconds\n"
          ]
        }
      ]
    },
    {
      "cell_type": "code",
      "source": [
        "# Evaluation\n",
        "\n",
        "# Perform predictions on the test set\n",
        "y_pred_sgd = sgd.predict(X_test)\n",
        "\n",
        "# Calculate the accuracy of the classifier\n",
        "accuracy_sgd = accuracy_score(y_test, y_pred_sgd)\n",
        "\n",
        "# Print the results\n",
        "# print(\"Time taken for training:\", training_time, \"seconds\")\n",
        "# print(\"Time taken for evaluation:\", evaluation_time, \"seconds\")\n",
        "print(\"Accuracy:\", accuracy_sgd)\n"
      ],
      "metadata": {
        "colab": {
          "base_uri": "https://localhost:8080/"
        },
        "id": "uUwEY58ppqaO",
        "outputId": "9e21c125-d9be-4293-dcbc-8e83f8deadd4"
      },
      "execution_count": 31,
      "outputs": [
        {
          "output_type": "stream",
          "name": "stdout",
          "text": [
            "Accuracy: 0.8929\n"
          ]
        }
      ]
    },
    {
      "cell_type": "markdown",
      "source": [
        "###Training after PCA"
      ],
      "metadata": {
        "id": "nfQF3EfjqR6d"
      }
    },
    {
      "cell_type": "code",
      "source": [
        "#Training the model\n",
        "# Start the timer for training\n",
        "start_time_sgdpca = time.time()\n",
        "\n",
        "# Train the Random Forest classifier\n",
        "sgd.fit(X_train_pca, y_train)\n",
        "\n",
        "# Calculate the elapsed time for training\n",
        "elapsed_time_sgdpca = time.time() - start_time_sgdpca\n",
        "\n",
        "print(\"Time taken for training:\", elapsed_time_sgdpca, \"seconds\")"
      ],
      "metadata": {
        "colab": {
          "base_uri": "https://localhost:8080/"
        },
        "id": "KaoHRNwDqm2h",
        "outputId": "fd3da13b-f6e8-4c52-f7a5-5e67645f2e62"
      },
      "execution_count": 32,
      "outputs": [
        {
          "output_type": "stream",
          "name": "stdout",
          "text": [
            "Time taken for training: 38.29585528373718 seconds\n"
          ]
        }
      ]
    },
    {
      "cell_type": "code",
      "source": [
        "# Evaluation\n",
        "\n",
        "# Perform predictions on the test set\n",
        "y_pred_sgd = sgd.predict(X_test_pca)\n",
        "\n",
        "# Calculate the accuracy of the classifier\n",
        "accuracy_sgd = accuracy_score(y_test, y_pred_sgd)\n",
        "\n",
        "# Print the results\n",
        "# print(\"Time taken for training:\", training_time, \"seconds\")\n",
        "# print(\"Time taken for evaluation:\", evaluation_time, \"seconds\")\n",
        "print(\"Accuracy:\", accuracy_sgd)"
      ],
      "metadata": {
        "colab": {
          "base_uri": "https://localhost:8080/"
        },
        "id": "cH6m8jdZqzBd",
        "outputId": "b955850c-bffd-44cc-ada7-1e83c25e4166"
      },
      "execution_count": 34,
      "outputs": [
        {
          "output_type": "stream",
          "name": "stdout",
          "text": [
            "Accuracy: 0.8825\n"
          ]
        }
      ]
    },
    {
      "cell_type": "markdown",
      "source": [
        "##Discussion\n",
        "\n",
        "- PCA didn't quite work in the case of RandomForestClassifier, but it drastically improved the time incurred while training SGDCLassifier.\n",
        "- However PCA didn't seem to help in improving the performance of both the models.\n",
        "- Therefore, PCA might decrease the time taken during training in most cases, but rather will not help in improving the performance of the models."
      ],
      "metadata": {
        "id": "gOVGWnFMrNUb"
      }
    },
    {
      "cell_type": "code",
      "source": [],
      "metadata": {
        "id": "tlmyKq2zsruU"
      },
      "execution_count": null,
      "outputs": []
    }
  ]
}